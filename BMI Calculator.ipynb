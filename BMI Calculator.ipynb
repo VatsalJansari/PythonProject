{
 "cells": [
  {
   "cell_type": "markdown",
   "id": "2ab68085",
   "metadata": {},
   "source": [
    "# BMI calculator"
   ]
  },
  {
   "cell_type": "code",
   "execution_count": 18,
   "id": "39cdffbf",
   "metadata": {},
   "outputs": [
    {
     "name": "stdout",
     "output_type": "stream",
     "text": [
      "Enter Your Weight in lbs220\n",
      "Enter Your Height in Inches72\n",
      "29.834104938271604\n"
     ]
    }
   ],
   "source": [
    "weight = int(input(\"Enter Your Weight in lbs\"))\n",
    "\n",
    "Height = int(input(\"Enter Your Height in Inches\"))\n",
    "\n",
    "BMI = ( weight * 703) / (Height * Height)\n",
    "\n",
    "print(BMI)"
   ]
  },
  {
   "cell_type": "markdown",
   "id": "3102adca",
   "metadata": {},
   "source": [
    "If your BMI is less than 18.5, it falls within the underweight range.\n",
    "If your BMI is 18.5 to <25, it falls within the healthy weight range.\n",
    "If your BMI is 25.0 to <30, it falls within the overweight range.\n",
    "If your BMI is 30.0 or higher, it falls within the obesity range."
   ]
  },
  {
   "cell_type": "code",
   "execution_count": 21,
   "id": "acb03377",
   "metadata": {},
   "outputs": [
    {
     "name": "stdout",
     "output_type": "stream",
     "text": [
      "It falls within the overweight range.\n"
     ]
    }
   ],
   "source": [
    "\n",
    "if BMI > 0:\n",
    "    if (BMI <18.5) :\n",
    "            print('It falls within the underweight range.')\n",
    "    elif (BMI<=25) :\n",
    "            print('It falls within the healthy weight range.')\n",
    "    elif (BMI <30):\n",
    "            print('It falls within the overweight range.')\n",
    "    elif (BMI > 30) :\n",
    "            print('It falls within the obesity range.')   \n",
    "else :\n",
    "    print('Enter Valid Inputs')\n",
    "    \n"
   ]
  },
  {
   "cell_type": "code",
   "execution_count": null,
   "id": "6c55ed03",
   "metadata": {},
   "outputs": [],
   "source": []
  },
  {
   "cell_type": "code",
   "execution_count": null,
   "id": "d6e5ccfa",
   "metadata": {},
   "outputs": [],
   "source": []
  }
 ],
 "metadata": {
  "kernelspec": {
   "display_name": "Python 3 (ipykernel)",
   "language": "python",
   "name": "python3"
  },
  "language_info": {
   "codemirror_mode": {
    "name": "ipython",
    "version": 3
   },
   "file_extension": ".py",
   "mimetype": "text/x-python",
   "name": "python",
   "nbconvert_exporter": "python",
   "pygments_lexer": "ipython3",
   "version": "3.10.9"
  }
 },
 "nbformat": 4,
 "nbformat_minor": 5
}
